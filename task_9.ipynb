{
 "cells": [
  {
   "cell_type": "markdown",
   "id": "f80b979b",
   "metadata": {},
   "source": [
    "## Task 9: Fit a Simple Linear Regression"
   ]
  },
  {
   "cell_type": "markdown",
   "id": "9fbb6e49",
   "metadata": {},
   "source": [
    "Tasks based on instructions given in document https://github.com/ianmcloughlin/principles_of_data_analytics/blob/main/assessment/tasks.md"
   ]
  },
  {
   "cell_type": "markdown",
   "id": "a11be280",
   "metadata": {},
   "source": [
    "***\n",
    "> For your two features in Task 5, calculate the coefficient of determination \n",
    "R\n",
    "2\n",
    ".\n",
    "Re-create the plot from Task 6 and annotate it with the \n",
    "R\n",
    "2\n",
    " value.\n",
    "\n",
    " ***"
   ]
  },
  {
   "cell_type": "markdown",
   "id": "4582b719",
   "metadata": {},
   "source": [
    "![alt text](WIP.png)"
   ]
  }
 ],
 "metadata": {
  "language_info": {
   "name": "python"
  }
 },
 "nbformat": 4,
 "nbformat_minor": 5
}
