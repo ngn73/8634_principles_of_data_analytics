{
 "cells": [
  {
   "cell_type": "markdown",
   "id": "c08f49f1",
   "metadata": {},
   "source": [
    "## Task 8: Compute Correlations"
   ]
  },
  {
   "cell_type": "markdown",
   "id": "70c88d3c",
   "metadata": {},
   "source": [
    "Tasks based on instructions given in document https://github.com/ianmcloughlin/principles_of_data_analytics/blob/main/assessment/tasks.md"
   ]
  },
  {
   "cell_type": "markdown",
   "id": "af7e47e0",
   "metadata": {},
   "source": [
    "***\n",
    "> Calculate the correlation coefficients between the features.\n",
    "Display the results as a heatmap using matplotlib.\n",
    "\n",
    "***"
   ]
  },
  {
   "cell_type": "markdown",
   "id": "70d6f591",
   "metadata": {},
   "source": [
    "![alt text](WIP.png)"
   ]
  }
 ],
 "metadata": {
  "language_info": {
   "name": "python"
  }
 },
 "nbformat": 4,
 "nbformat_minor": 5
}
