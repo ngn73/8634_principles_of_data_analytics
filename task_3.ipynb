{
 "cells": [
  {
   "cell_type": "markdown",
   "metadata": {},
   "source": [
    "# Task 3: Summarize the Data"
   ]
  },
  {
   "cell_type": "markdown",
   "metadata": {},
   "source": [
    "Tasks based on instructions given in document https://github.com/ianmcloughlin/principles_of_data_analytics/blob/main/assessment/tasks.md"
   ]
  },
  {
   "cell_type": "markdown",
   "metadata": {},
   "source": [
    "For each feature in the dataset, calculate and display:\n",
    "\n",
    "* mean\n",
    "* minimum\n",
    "* maximum\n",
    "* standard deviation\n",
    "* median\n"
   ]
  },
  {
   "cell_type": "markdown",
   "metadata": {},
   "source": [
    "Lets use the same Dataset as with previous tasks\n",
    "* Iris Dataset "
   ]
  },
  {
   "cell_type": "code",
   "execution_count": null,
   "metadata": {},
   "outputs": [],
   "source": [
    "#import required modules \n",
    "import pandas as pd\n",
    "import numpy as np\n",
    "from sklearn import datasets as ds\n",
    "\n",
    "#load the Iris Dataset\n",
    "iris = ds.load_iris()\n",
    "\n",
    "# Convert to DataFrame\n",
    "dframe = pd.DataFrame(iris.data, columns=iris.feature_names)    #no need to add Target Column"
   ]
  },
  {
   "cell_type": "markdown",
   "metadata": {},
   "source": [
    "For the data summary calculation of mean/minimum/maximum/standard deviation/median.</br>\n",
    "It is assumed that one should use the **numpy** mathematical operators.</br>\n",
    "\n",
    "The 4 features that will be summarized are :\n",
    "1. 'sepal length (cm)'\n",
    "2.  'sepal width (cm)'\n",
    "3.  'petal length (cm)'\n",
    "4.  'petal width (cm)'"
   ]
  },
  {
   "cell_type": "code",
   "execution_count": 20,
   "metadata": {},
   "outputs": [
    {
     "name": "stdout",
     "output_type": "stream",
     "text": [
      "Data Summary for attribute :[sepal length (cm)]\n",
      "The Mean is : 5.84333\n",
      "The Minimum is : 4.30000\n",
      "The Maximum is : 7.90000\n",
      "The standard deviation is : 0.82807\n",
      "The Median is : 5.80000\n",
      "\n",
      "Data Summary for attribute :[sepal width (cm)]\n",
      "The Mean is : 3.05733\n",
      "The Minimum is : 2.00000\n",
      "The Maximum is : 4.40000\n",
      "The standard deviation is : 0.43587\n",
      "The Median is : 3.00000\n",
      "\n",
      "Data Summary for attribute :[petal length (cm)]\n",
      "The Mean is : 3.75800\n",
      "The Minimum is : 1.00000\n",
      "The Maximum is : 6.90000\n",
      "The standard deviation is : 1.76530\n",
      "The Median is : 4.35000\n",
      "\n",
      "Data Summary for attribute :[petal width (cm)]\n",
      "The Mean is : 1.19933\n",
      "The Minimum is : 0.10000\n",
      "The Maximum is : 2.50000\n",
      "The standard deviation is : 0.76224\n",
      "The Median is : 1.30000\n",
      "\n"
     ]
    }
   ],
   "source": [
    "#Extract features from dataset\n",
    "for ifeature in iris['feature_names']:\n",
    "    print(f'Data Summary for attribute :[{ifeature}]') #for each feature\n",
    "    print(f'The Mean is : {dframe[ifeature].mean():.5f}') #print summary rounded to 5 places of decimal \n",
    "    print(f'The Minimum is : {dframe[ifeature].min():.5f}')\n",
    "    print(f'The Maximum is : {dframe[ifeature].max():.5f}')\n",
    "    print(f'The standard deviation is : {dframe[ifeature].std():.5f}')\n",
    "    print(f'The Median is : {dframe[ifeature].median():.5f}')\n",
    "    print(\"\")\n",
    "  "
   ]
  }
 ],
 "metadata": {
  "kernelspec": {
   "display_name": "base",
   "language": "python",
   "name": "python3"
  },
  "language_info": {
   "codemirror_mode": {
    "name": "ipython",
    "version": 3
   },
   "file_extension": ".py",
   "mimetype": "text/x-python",
   "name": "python",
   "nbconvert_exporter": "python",
   "pygments_lexer": "ipython3",
   "version": "3.12.7"
  }
 },
 "nbformat": 4,
 "nbformat_minor": 2
}
