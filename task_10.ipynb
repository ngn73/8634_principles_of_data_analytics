{
 "cells": [
  {
   "cell_type": "markdown",
   "id": "c345f692",
   "metadata": {},
   "source": [
    "## Task 10: Too Many Features"
   ]
  },
  {
   "cell_type": "markdown",
   "id": "59b3dad6",
   "metadata": {},
   "source": [
    "Tasks based on instructions given in document https://github.com/ianmcloughlin/principles_of_data_analytics/blob/main/assessment/tasks.md"
   ]
  },
  {
   "cell_type": "markdown",
   "id": "63311ae4",
   "metadata": {},
   "source": [
    "***\n",
    "> Use seaborn to create a pairplot of the data set.\n",
    "Explain, in your own words, what the pairplot depicts.\n",
    "\n",
    "***"
   ]
  },
  {
   "cell_type": "markdown",
   "id": "d0f1a060",
   "metadata": {},
   "source": [
    "![alt text](WIP.png)"
   ]
  }
 ],
 "metadata": {
  "language_info": {
   "name": "python"
  }
 },
 "nbformat": 4,
 "nbformat_minor": 5
}
